{
 "cells": [
  {
   "cell_type": "code",
   "execution_count": null,
   "id": "17db3ebb",
   "metadata": {},
   "outputs": [],
   "source": [
    "import calliope"
   ]
  },
  {
   "cell_type": "code",
   "execution_count": null,
   "id": "cf4d7307",
   "metadata": {},
   "outputs": [],
   "source": [
    "model = calliope.Model(\"model-1/model.yaml\")"
   ]
  },
  {
   "cell_type": "code",
   "execution_count": null,
   "id": "3dc9778a",
   "metadata": {},
   "outputs": [],
   "source": [
    "model.run()"
   ]
  },
  {
   "cell_type": "code",
   "execution_count": null,
   "id": "9774fa5c",
   "metadata": {},
   "outputs": [],
   "source": [
    "model.plot.capacity()"
   ]
  },
  {
   "cell_type": "code",
   "execution_count": null,
   "id": "2cd5d856",
   "metadata": {},
   "outputs": [],
   "source": [
    "model = calliope.Model(\"model-1/model.yaml\", scenario=\"my-new-scenario\")"
   ]
  },
  {
   "cell_type": "code",
   "execution_count": null,
   "id": "3d868216",
   "metadata": {},
   "outputs": [],
   "source": [
    "model.run()"
   ]
  },
  {
   "cell_type": "code",
   "execution_count": null,
   "id": "a15550f6",
   "metadata": {},
   "outputs": [],
   "source": [
    "model.plot.capacity()"
   ]
  },
  {
   "cell_type": "code",
   "execution_count": null,
   "id": "6eb4c55c",
   "metadata": {},
   "outputs": [],
   "source": [
    "model.plot.timeseries()"
   ]
  }
 ],
 "metadata": {
  "kernelspec": {
   "display_name": "Python 3 (ipykernel)",
   "language": "python",
   "name": "python3"
  },
  "language_info": {
   "codemirror_mode": {
    "name": "ipython",
    "version": 3
   },
   "file_extension": ".py",
   "mimetype": "text/x-python",
   "name": "python",
   "nbconvert_exporter": "python",
   "pygments_lexer": "ipython3",
   "version": "3.7.11"
  }
 },
 "nbformat": 4,
 "nbformat_minor": 5
}
