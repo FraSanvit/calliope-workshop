{
 "cells": [
  {
   "cell_type": "code",
   "execution_count": null,
   "id": "15f9b8d1",
   "metadata": {},
   "outputs": [],
   "source": [
    "import calliope"
   ]
  },
  {
   "cell_type": "markdown",
   "id": "50e204d0",
   "metadata": {},
   "source": [
    "# Loading a model and inspecting inputs"
   ]
  },
  {
   "cell_type": "code",
   "execution_count": null,
   "id": "549f2311",
   "metadata": {},
   "outputs": [],
   "source": [
    "# The `model.yaml` file will import all other yaml files defined within it.\n",
    "# Another approach is to define all information about the model in a single file (locations, techs, etc.), \n",
    "# but this can get quite lengthy!\n",
    "\n",
    "model = calliope.Model(\"model-2/model.yaml\")"
   ]
  },
  {
   "cell_type": "code",
   "execution_count": null,
   "id": "95e2b4f4",
   "metadata": {},
   "outputs": [],
   "source": [
    "# Loaded data is stored as an xarray dataset, which can be saved as a single NetCDF.\n",
    "# In this model, we've defined data given the units\n",
    "# GW/GWh for power/energy, Million Euros for monetary costs, and km^2 for land area\n",
    "model.inputs"
   ]
  },
  {
   "cell_type": "code",
   "execution_count": null,
   "id": "bbd15c46",
   "metadata": {},
   "outputs": [],
   "source": [
    "# model data is stored using concatenated sets, to cut down on largely empty arrays. \n",
    "# To handle the data yourself, you will probably prefer to have the sets un-concatenated\n",
    "model.get_formatted_array(\"energy_cap_max\")"
   ]
  },
  {
   "cell_type": "code",
   "execution_count": null,
   "id": "cb574cf5",
   "metadata": {},
   "outputs": [],
   "source": [
    "# For small arrays, you can also view the data more easily using Pandas series\n",
    "model.get_formatted_array(\"energy_cap_max\").to_series().dropna()"
   ]
  },
  {
   "cell_type": "markdown",
   "id": "5942749e",
   "metadata": {},
   "source": [
    "## Plotting data"
   ]
  },
  {
   "cell_type": "code",
   "execution_count": null,
   "id": "7ffc2c27",
   "metadata": {},
   "outputs": [],
   "source": [
    "# Inputs can be plotted using internal plotting functionality...\n",
    "model.plot.timeseries()"
   ]
  },
  {
   "cell_type": "code",
   "execution_count": null,
   "id": "3677ba9b",
   "metadata": {},
   "outputs": [],
   "source": [
    "# ... but you might like to plot something yourself\n",
    "ax = model.get_formatted_array(\"lifetime\").to_pandas().plot.bar()\n",
    "ax.legend(bbox_to_anchor=(1, 1))\n",
    "ax.set_ylabel(\"Technology lifetime (years)\")"
   ]
  },
  {
   "cell_type": "markdown",
   "id": "01abbb1e",
   "metadata": {},
   "source": [
    "# Running the model"
   ]
  },
  {
   "cell_type": "code",
   "execution_count": null,
   "id": "8763d56e",
   "metadata": {},
   "outputs": [],
   "source": [
    "model.run()"
   ]
  },
  {
   "cell_type": "code",
   "execution_count": null,
   "id": "aff2fc85",
   "metadata": {},
   "outputs": [],
   "source": [
    "# Looking at the timeseries, we see there is one day with some unmet electricity demand.\n",
    "model.plot.timeseries()"
   ]
  },
  {
   "cell_type": "code",
   "execution_count": null,
   "id": "fd1d6dd1",
   "metadata": {},
   "outputs": [],
   "source": [
    "model.get_formatted_array(\"energy_cap\").to_series().dropna().round(2)"
   ]
  },
  {
   "cell_type": "markdown",
   "id": "b9ec0165",
   "metadata": {},
   "source": [
    "# Run with scenarios"
   ]
  },
  {
   "cell_type": "markdown",
   "id": "1b084d5f",
   "metadata": {},
   "source": [
    "## Add transmission line limits"
   ]
  },
  {
   "cell_type": "code",
   "execution_count": null,
   "id": "2d5505f7",
   "metadata": {},
   "outputs": [],
   "source": [
    "# The current model has no limits on transmission line capacity. \n",
    "# This may not be realistic, so let's try adding some line limits in\n",
    "model2 = calliope.Model(\"model-2/model.yaml\", scenario=\"add-transmission-limits\")"
   ]
  },
  {
   "cell_type": "code",
   "execution_count": null,
   "id": "90d8acfd",
   "metadata": {},
   "outputs": [],
   "source": [
    "model2.run()"
   ]
  },
  {
   "cell_type": "markdown",
   "id": "34266423",
   "metadata": {},
   "source": [
    "# Add a medium-term storage option"
   ]
  },
  {
   "cell_type": "code",
   "execution_count": null,
   "id": "668dc342",
   "metadata": {},
   "outputs": [],
   "source": [
    "# Maybe storage can help?\n",
    "model2 = calliope.Model(\"model-2/model.yaml\", scenario=\"add-transmission-limits,add-storage\")"
   ]
  },
  {
   "cell_type": "code",
   "execution_count": null,
   "id": "6a0d60f7",
   "metadata": {},
   "outputs": [],
   "source": [
    "model2.run()"
   ]
  },
  {
   "cell_type": "code",
   "execution_count": null,
   "id": "164f863c",
   "metadata": {},
   "outputs": [],
   "source": [
    "model2.plot.timeseries()"
   ]
  },
  {
   "cell_type": "code",
   "execution_count": null,
   "id": "3ffc4048",
   "metadata": {},
   "outputs": [],
   "source": [
    "model2.plot.capacity()"
   ]
  },
  {
   "cell_type": "markdown",
   "id": "5e3a494a",
   "metadata": {},
   "source": [
    "# Comparing model outputs"
   ]
  },
  {
   "cell_type": "code",
   "execution_count": null,
   "id": "e5c94270",
   "metadata": {},
   "outputs": [],
   "source": [
    "import pandas as pd"
   ]
  },
  {
   "cell_type": "code",
   "execution_count": null,
   "id": "ad118945",
   "metadata": {},
   "outputs": [],
   "source": [
    "# Let's look at system costs and capacities between our two models\n",
    "costs = pd.Series(\n",
    "    [model.get_formatted_array(\"cost\").sel(costs=\"monetary\").to_series().sum(),\n",
    "     model2.get_formatted_array(\"cost\").sel(costs=\"monetary\").to_series().sum()],\n",
    "    index=[\"First model run\", \"Second model run\"]\n",
    ")\n",
    "capacities = pd.concat(\n",
    "    [model.get_formatted_array(\"energy_cap\").sum(\"locs\").to_series(),\n",
    "     model2.get_formatted_array(\"energy_cap\").sum(\"locs\").to_series()],\n",
    "    keys=[\"First model run\", \"Second model run\"], axis=1\n",
    ")\n",
    "\n",
    "# Transmission is a bit of a strange one to handle at the moment.\n",
    "# This code snippet will sum up all transmission links and then half the result \n",
    "# (since the sum includes the capacity in both directions)\n",
    "capacities = capacities.groupby(lambda x: x.split(\":\")[0], axis=0).sum()\n",
    "capacities.loc[\"ac_transmission\"] = capacities.loc[\"ac_transmission\"].div(2)"
   ]
  },
  {
   "cell_type": "code",
   "execution_count": null,
   "id": "cadc2a25",
   "metadata": {},
   "outputs": [],
   "source": [
    "costs"
   ]
  },
  {
   "cell_type": "code",
   "execution_count": null,
   "id": "8e13a664",
   "metadata": {},
   "outputs": [],
   "source": [
    "colors = model.inputs.colors.to_series().to_dict()\n",
    "ax = capacities.T.plot.bar(stacked=True, color=colors)\n",
    "ax.legend(bbox_to_anchor=(1, 1))"
   ]
  }
 ],
 "metadata": {
  "kernelspec": {
   "display_name": "Python 3 (ipykernel)",
   "language": "python",
   "name": "python3"
  },
  "language_info": {
   "codemirror_mode": {
    "name": "ipython",
    "version": 3
   },
   "file_extension": ".py",
   "mimetype": "text/x-python",
   "name": "python",
   "nbconvert_exporter": "python",
   "pygments_lexer": "ipython3",
   "version": "3.7.11"
  }
 },
 "nbformat": 4,
 "nbformat_minor": 5
}
